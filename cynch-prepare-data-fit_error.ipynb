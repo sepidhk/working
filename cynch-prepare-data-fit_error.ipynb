{
 "cells": [
  {
   "cell_type": "code",
   "execution_count": 1,
   "id": "9b80b8ab",
   "metadata": {
    "_cell_guid": "b1076dfc-b9ad-4769-8c92-a6c4dae69d19",
    "_uuid": "8f2839f25d086af736a60e9eeb907d3b93b6e0e5",
    "execution": {
     "iopub.execute_input": "2022-06-07T19:49:28.838577Z",
     "iopub.status.busy": "2022-06-07T19:49:28.837847Z",
     "iopub.status.idle": "2022-06-07T19:49:28.843086Z",
     "shell.execute_reply": "2022-06-07T19:49:28.842377Z"
    },
    "papermill": {
     "duration": 0.016885,
     "end_time": "2022-06-07T19:49:28.845147",
     "exception": false,
     "start_time": "2022-06-07T19:49:28.828262",
     "status": "completed"
    },
    "tags": []
   },
   "outputs": [],
   "source": [
    "# import os\n",
    "# for dirname, _, filenames in os.walk('/kaggle/input'):\n",
    "#     for filename in filenames:\n",
    "#         print(os.path.join(dirname, filename))"
   ]
  },
  {
   "cell_type": "code",
   "execution_count": 2,
   "id": "9555430a",
   "metadata": {
    "execution": {
     "iopub.execute_input": "2022-06-07T19:49:28.857626Z",
     "iopub.status.busy": "2022-06-07T19:49:28.857266Z",
     "iopub.status.idle": "2022-06-07T19:49:28.865177Z",
     "shell.execute_reply": "2022-06-07T19:49:28.864527Z"
    },
    "papermill": {
     "duration": 0.015836,
     "end_time": "2022-06-07T19:49:28.866747",
     "exception": false,
     "start_time": "2022-06-07T19:49:28.850911",
     "status": "completed"
    },
    "tags": []
   },
   "outputs": [],
   "source": [
    "import warnings\n",
    "warnings.filterwarnings('always')\n",
    "warnings.filterwarnings('ignore')"
   ]
  },
  {
   "cell_type": "code",
   "execution_count": 3,
   "id": "d6616982",
   "metadata": {
    "execution": {
     "iopub.execute_input": "2022-06-07T19:49:28.879220Z",
     "iopub.status.busy": "2022-06-07T19:49:28.878646Z",
     "iopub.status.idle": "2022-06-07T19:51:12.826256Z",
     "shell.execute_reply": "2022-06-07T19:51:12.825242Z"
    },
    "papermill": {
     "duration": 103.956952,
     "end_time": "2022-06-07T19:51:12.829294",
     "exception": false,
     "start_time": "2022-06-07T19:49:28.872342",
     "status": "completed"
    },
    "tags": []
   },
   "outputs": [
    {
     "name": "stdout",
     "output_type": "stream",
     "text": [
      "Collecting segmentation-models-3D\r\n",
      "  Downloading segmentation_models_3D-1.0.4-py3-none-any.whl (33 kB)\r\n",
      "Collecting keras-applications>=1.0.8\r\n",
      "  Downloading Keras_Applications-1.0.8-py3-none-any.whl (50 kB)\r\n",
      "\u001b[2K     \u001b[90m━━━━━━━━━━━━━━━━━━━━━━━━━━━━━━━━━━━━━━━\u001b[0m \u001b[32m50.7/50.7 kB\u001b[0m \u001b[31m658.3 kB/s\u001b[0m eta \u001b[36m0:00:00\u001b[0m\r\n",
      "\u001b[?25hCollecting tensorflow>=2.8.0\r\n",
      "  Downloading tensorflow-2.9.1-cp37-cp37m-manylinux_2_17_x86_64.manylinux2014_x86_64.whl (511.7 MB)\r\n",
      "\u001b[2K     \u001b[90m━━━━━━━━━━━━━━━━━━━━━━━━━━━━━━━━━━━━━━━\u001b[0m \u001b[32m511.7/511.7 MB\u001b[0m \u001b[31m1.4 MB/s\u001b[0m eta \u001b[36m0:00:00\u001b[0m\r\n",
      "\u001b[?25hCollecting classification-models-3D>=1.0.6\r\n",
      "  Downloading classification_models_3D-1.0.6-py3-none-any.whl (62 kB)\r\n",
      "\u001b[2K     \u001b[90m━━━━━━━━━━━━━━━━━━━━━━━━━━━━━━━━━━━━━━━━\u001b[0m \u001b[32m62.9/62.9 kB\u001b[0m \u001b[31m6.0 MB/s\u001b[0m eta \u001b[36m0:00:00\u001b[0m\r\n",
      "\u001b[?25hRequirement already satisfied: h5py in /opt/conda/lib/python3.7/site-packages (from keras-applications>=1.0.8->segmentation-models-3D) (3.1.0)\r\n",
      "Requirement already satisfied: numpy>=1.9.1 in /opt/conda/lib/python3.7/site-packages (from keras-applications>=1.0.8->segmentation-models-3D) (1.21.6)\r\n",
      "Collecting libclang>=13.0.0\r\n",
      "  Downloading libclang-14.0.1-py2.py3-none-manylinux1_x86_64.whl (14.5 MB)\r\n",
      "\u001b[2K     \u001b[90m━━━━━━━━━━━━━━━━━━━━━━━━━━━━━━━━━━━━━━━━\u001b[0m \u001b[32m14.5/14.5 MB\u001b[0m \u001b[31m15.2 MB/s\u001b[0m eta \u001b[36m0:00:00\u001b[0m\r\n",
      "\u001b[?25hRequirement already satisfied: grpcio<2.0,>=1.24.3 in /opt/conda/lib/python3.7/site-packages (from tensorflow>=2.8.0->segmentation-models-3D) (1.43.0)\r\n",
      "Requirement already satisfied: astunparse>=1.6.0 in /opt/conda/lib/python3.7/site-packages (from tensorflow>=2.8.0->segmentation-models-3D) (1.6.3)\r\n",
      "Requirement already satisfied: setuptools in /opt/conda/lib/python3.7/site-packages (from tensorflow>=2.8.0->segmentation-models-3D) (59.8.0)\r\n",
      "Requirement already satisfied: keras-preprocessing>=1.1.1 in /opt/conda/lib/python3.7/site-packages (from tensorflow>=2.8.0->segmentation-models-3D) (1.1.2)\r\n",
      "Collecting tensorflow-io-gcs-filesystem>=0.23.1\r\n",
      "  Downloading tensorflow_io_gcs_filesystem-0.26.0-cp37-cp37m-manylinux_2_12_x86_64.manylinux2010_x86_64.whl (2.4 MB)\r\n",
      "\u001b[2K     \u001b[90m━━━━━━━━━━━━━━━━━━━━━━━━━━━━━━━━━━━━━━━━\u001b[0m \u001b[32m2.4/2.4 MB\u001b[0m \u001b[31m46.8 MB/s\u001b[0m eta \u001b[36m0:00:00\u001b[0m\r\n",
      "\u001b[?25hRequirement already satisfied: wrapt>=1.11.0 in /opt/conda/lib/python3.7/site-packages (from tensorflow>=2.8.0->segmentation-models-3D) (1.14.1)\r\n",
      "Requirement already satisfied: termcolor>=1.1.0 in /opt/conda/lib/python3.7/site-packages (from tensorflow>=2.8.0->segmentation-models-3D) (1.1.0)\r\n",
      "Requirement already satisfied: gast<=0.4.0,>=0.2.1 in /opt/conda/lib/python3.7/site-packages (from tensorflow>=2.8.0->segmentation-models-3D) (0.4.0)\r\n",
      "Requirement already satisfied: flatbuffers<2,>=1.12 in /opt/conda/lib/python3.7/site-packages (from tensorflow>=2.8.0->segmentation-models-3D) (1.12)\r\n",
      "Collecting tensorflow-estimator<2.10.0,>=2.9.0rc0\r\n",
      "  Downloading tensorflow_estimator-2.9.0-py2.py3-none-any.whl (438 kB)\r\n",
      "\u001b[2K     \u001b[90m━━━━━━━━━━━━━━━━━━━━━━━━━━━━━━━━━━━━━━\u001b[0m \u001b[32m438.7/438.7 kB\u001b[0m \u001b[31m37.2 MB/s\u001b[0m eta \u001b[36m0:00:00\u001b[0m\r\n",
      "\u001b[?25hRequirement already satisfied: packaging in /opt/conda/lib/python3.7/site-packages (from tensorflow>=2.8.0->segmentation-models-3D) (21.3)\r\n",
      "Requirement already satisfied: opt-einsum>=2.3.2 in /opt/conda/lib/python3.7/site-packages (from tensorflow>=2.8.0->segmentation-models-3D) (3.3.0)\r\n",
      "Requirement already satisfied: typing-extensions>=3.6.6 in /opt/conda/lib/python3.7/site-packages (from tensorflow>=2.8.0->segmentation-models-3D) (4.2.0)\r\n",
      "Requirement already satisfied: absl-py>=1.0.0 in /opt/conda/lib/python3.7/site-packages (from tensorflow>=2.8.0->segmentation-models-3D) (1.0.0)\r\n",
      "Collecting tensorboard<2.10,>=2.9\r\n",
      "  Downloading tensorboard-2.9.0-py3-none-any.whl (5.8 MB)\r\n",
      "\u001b[2K     \u001b[90m━━━━━━━━━━━━━━━━━━━━━━━━━━━━━━━━━━━━━━━━\u001b[0m \u001b[32m5.8/5.8 MB\u001b[0m \u001b[31m22.2 MB/s\u001b[0m eta \u001b[36m0:00:00\u001b[0m\r\n",
      "\u001b[?25hCollecting keras<2.10.0,>=2.9.0rc0\r\n",
      "  Downloading keras-2.9.0-py2.py3-none-any.whl (1.6 MB)\r\n",
      "\u001b[2K     \u001b[90m━━━━━━━━━━━━━━━━━━━━━━━━━━━━━━━━━━━━━━━━\u001b[0m \u001b[32m1.6/1.6 MB\u001b[0m \u001b[31m45.5 MB/s\u001b[0m eta \u001b[36m0:00:00\u001b[0m\r\n",
      "\u001b[?25hRequirement already satisfied: google-pasta>=0.1.1 in /opt/conda/lib/python3.7/site-packages (from tensorflow>=2.8.0->segmentation-models-3D) (0.2.0)\r\n",
      "Requirement already satisfied: six>=1.12.0 in /opt/conda/lib/python3.7/site-packages (from tensorflow>=2.8.0->segmentation-models-3D) (1.16.0)\r\n",
      "Collecting protobuf<3.20,>=3.9.2\r\n",
      "  Downloading protobuf-3.19.4-cp37-cp37m-manylinux_2_17_x86_64.manylinux2014_x86_64.whl (1.1 MB)\r\n",
      "\u001b[2K     \u001b[90m━━━━━━━━━━━━━━━━━━━━━━━━━━━━━━━━━━━━━━━━\u001b[0m \u001b[32m1.1/1.1 MB\u001b[0m \u001b[31m41.1 MB/s\u001b[0m eta \u001b[36m0:00:00\u001b[0m\r\n",
      "\u001b[?25hRequirement already satisfied: wheel<1.0,>=0.23.0 in /opt/conda/lib/python3.7/site-packages (from astunparse>=1.6.0->tensorflow>=2.8.0->segmentation-models-3D) (0.37.1)\r\n",
      "Requirement already satisfied: cached-property in /opt/conda/lib/python3.7/site-packages (from h5py->keras-applications>=1.0.8->segmentation-models-3D) (1.5.2)\r\n",
      "Requirement already satisfied: tensorboard-plugin-wit>=1.6.0 in /opt/conda/lib/python3.7/site-packages (from tensorboard<2.10,>=2.9->tensorflow>=2.8.0->segmentation-models-3D) (1.8.1)\r\n",
      "Requirement already satisfied: google-auth<3,>=1.6.3 in /opt/conda/lib/python3.7/site-packages (from tensorboard<2.10,>=2.9->tensorflow>=2.8.0->segmentation-models-3D) (1.35.0)\r\n",
      "Requirement already satisfied: markdown>=2.6.8 in /opt/conda/lib/python3.7/site-packages (from tensorboard<2.10,>=2.9->tensorflow>=2.8.0->segmentation-models-3D) (3.3.7)\r\n",
      "Requirement already satisfied: werkzeug>=1.0.1 in /opt/conda/lib/python3.7/site-packages (from tensorboard<2.10,>=2.9->tensorflow>=2.8.0->segmentation-models-3D) (2.1.2)\r\n",
      "Requirement already satisfied: tensorboard-data-server<0.7.0,>=0.6.0 in /opt/conda/lib/python3.7/site-packages (from tensorboard<2.10,>=2.9->tensorflow>=2.8.0->segmentation-models-3D) (0.6.1)\r\n",
      "Requirement already satisfied: google-auth-oauthlib<0.5,>=0.4.1 in /opt/conda/lib/python3.7/site-packages (from tensorboard<2.10,>=2.9->tensorflow>=2.8.0->segmentation-models-3D) (0.4.6)\r\n",
      "Requirement already satisfied: requests<3,>=2.21.0 in /opt/conda/lib/python3.7/site-packages (from tensorboard<2.10,>=2.9->tensorflow>=2.8.0->segmentation-models-3D) (2.27.1)\r\n",
      "Requirement already satisfied: pyparsing!=3.0.5,>=2.0.2 in /opt/conda/lib/python3.7/site-packages (from packaging->tensorflow>=2.8.0->segmentation-models-3D) (3.0.9)\r\n",
      "Requirement already satisfied: rsa<5,>=3.1.4 in /opt/conda/lib/python3.7/site-packages (from google-auth<3,>=1.6.3->tensorboard<2.10,>=2.9->tensorflow>=2.8.0->segmentation-models-3D) (4.8)\r\n",
      "Requirement already satisfied: pyasn1-modules>=0.2.1 in /opt/conda/lib/python3.7/site-packages (from google-auth<3,>=1.6.3->tensorboard<2.10,>=2.9->tensorflow>=2.8.0->segmentation-models-3D) (0.2.7)\r\n",
      "Requirement already satisfied: cachetools<5.0,>=2.0.0 in /opt/conda/lib/python3.7/site-packages (from google-auth<3,>=1.6.3->tensorboard<2.10,>=2.9->tensorflow>=2.8.0->segmentation-models-3D) (4.2.4)\r\n",
      "Requirement already satisfied: requests-oauthlib>=0.7.0 in /opt/conda/lib/python3.7/site-packages (from google-auth-oauthlib<0.5,>=0.4.1->tensorboard<2.10,>=2.9->tensorflow>=2.8.0->segmentation-models-3D) (1.3.1)\r\n",
      "Requirement already satisfied: importlib-metadata>=4.4 in /opt/conda/lib/python3.7/site-packages (from markdown>=2.6.8->tensorboard<2.10,>=2.9->tensorflow>=2.8.0->segmentation-models-3D) (4.11.4)\r\n",
      "Requirement already satisfied: certifi>=2017.4.17 in /opt/conda/lib/python3.7/site-packages (from requests<3,>=2.21.0->tensorboard<2.10,>=2.9->tensorflow>=2.8.0->segmentation-models-3D) (2022.5.18.1)\r\n",
      "Requirement already satisfied: urllib3<1.27,>=1.21.1 in /opt/conda/lib/python3.7/site-packages (from requests<3,>=2.21.0->tensorboard<2.10,>=2.9->tensorflow>=2.8.0->segmentation-models-3D) (1.26.9)\r\n",
      "Requirement already satisfied: charset-normalizer~=2.0.0 in /opt/conda/lib/python3.7/site-packages (from requests<3,>=2.21.0->tensorboard<2.10,>=2.9->tensorflow>=2.8.0->segmentation-models-3D) (2.0.12)\r\n",
      "Requirement already satisfied: idna<4,>=2.5 in /opt/conda/lib/python3.7/site-packages (from requests<3,>=2.21.0->tensorboard<2.10,>=2.9->tensorflow>=2.8.0->segmentation-models-3D) (3.3)\r\n",
      "Requirement already satisfied: zipp>=0.5 in /opt/conda/lib/python3.7/site-packages (from importlib-metadata>=4.4->markdown>=2.6.8->tensorboard<2.10,>=2.9->tensorflow>=2.8.0->segmentation-models-3D) (3.8.0)\r\n",
      "Requirement already satisfied: pyasn1<0.5.0,>=0.4.6 in /opt/conda/lib/python3.7/site-packages (from pyasn1-modules>=0.2.1->google-auth<3,>=1.6.3->tensorboard<2.10,>=2.9->tensorflow>=2.8.0->segmentation-models-3D) (0.4.8)\r\n",
      "Requirement already satisfied: oauthlib>=3.0.0 in /opt/conda/lib/python3.7/site-packages (from requests-oauthlib>=0.7.0->google-auth-oauthlib<0.5,>=0.4.1->tensorboard<2.10,>=2.9->tensorflow>=2.8.0->segmentation-models-3D) (3.2.0)\r\n",
      "Installing collected packages: libclang, keras, classification-models-3D, tensorflow-io-gcs-filesystem, tensorflow-estimator, protobuf, keras-applications, tensorboard, tensorflow, segmentation-models-3D\r\n",
      "  Attempting uninstall: keras\r\n",
      "    Found existing installation: keras 2.6.0\r\n",
      "    Uninstalling keras-2.6.0:\r\n",
      "      Successfully uninstalled keras-2.6.0\r\n",
      "  Attempting uninstall: tensorflow-estimator\r\n",
      "    Found existing installation: tensorflow-estimator 2.6.0\r\n",
      "    Uninstalling tensorflow-estimator-2.6.0:\r\n",
      "      Successfully uninstalled tensorflow-estimator-2.6.0\r\n",
      "  Attempting uninstall: protobuf\r\n",
      "    Found existing installation: protobuf 3.20.1\r\n",
      "    Uninstalling protobuf-3.20.1:\r\n",
      "      Successfully uninstalled protobuf-3.20.1\r\n",
      "  Attempting uninstall: tensorboard\r\n",
      "    Found existing installation: tensorboard 2.6.0\r\n",
      "    Uninstalling tensorboard-2.6.0:\r\n",
      "      Successfully uninstalled tensorboard-2.6.0\r\n",
      "  Attempting uninstall: tensorflow\r\n",
      "    Found existing installation: tensorflow 2.6.4\r\n",
      "    Uninstalling tensorflow-2.6.4:\r\n",
      "      Successfully uninstalled tensorflow-2.6.4\r\n",
      "\u001b[31mERROR: pip's dependency resolver does not currently take into account all the packages that are installed. This behaviour is the source of the following dependency conflicts.\r\n",
      "beatrix-jupyterlab 3.1.7 requires google-cloud-bigquery-storage, which is not installed.\r\n",
      "tensorflow-transform 1.8.0 requires tensorflow!=2.0.*,!=2.1.*,!=2.2.*,!=2.3.*,!=2.4.*,!=2.5.*,!=2.6.*,!=2.7.*,<2.9,>=1.15.5, but you have tensorflow 2.9.1 which is incompatible.\r\n",
      "tensorflow-io 0.21.0 requires tensorflow<2.7.0,>=2.6.0, but you have tensorflow 2.9.1 which is incompatible.\r\n",
      "tensorflow-io 0.21.0 requires tensorflow-io-gcs-filesystem==0.21.0, but you have tensorflow-io-gcs-filesystem 0.26.0 which is incompatible.\r\n",
      "grpcio-status 1.46.1 requires grpcio>=1.46.1, but you have grpcio 1.43.0 which is incompatible.\r\n",
      "google-cloud-aiplatform 0.6.0a1 requires google-cloud-storage<2.0.0dev,>=1.26.0, but you have google-cloud-storage 2.1.0 which is incompatible.\r\n",
      "gcsfs 2022.3.0 requires fsspec==2022.3.0, but you have fsspec 2022.5.0 which is incompatible.\r\n",
      "apache-beam 2.38.0 requires dill<0.3.2,>=0.3.1.1, but you have dill 0.3.5.1 which is incompatible.\r\n",
      "apache-beam 2.38.0 requires httplib2<0.20.0,>=0.8, but you have httplib2 0.20.4 which is incompatible.\u001b[0m\u001b[31m\r\n",
      "\u001b[0mSuccessfully installed classification-models-3D-1.0.6 keras-2.9.0 keras-applications-1.0.8 libclang-14.0.1 protobuf-3.19.4 segmentation-models-3D-1.0.4 tensorboard-2.9.0 tensorflow-2.9.1 tensorflow-estimator-2.9.0 tensorflow-io-gcs-filesystem-0.26.0\r\n",
      "\u001b[33mWARNING: Running pip as the 'root' user can result in broken permissions and conflicting behaviour with the system package manager. It is recommended to use a virtual environment instead: https://pip.pypa.io/warnings/venv\u001b[0m\u001b[33m\r\n",
      "\u001b[0m"
     ]
    }
   ],
   "source": [
    "!pip install segmentation-models-3D"
   ]
  },
  {
   "cell_type": "code",
   "execution_count": 4,
   "id": "46fe496e",
   "metadata": {
    "execution": {
     "iopub.execute_input": "2022-06-07T19:51:12.961058Z",
     "iopub.status.busy": "2022-06-07T19:51:12.960729Z",
     "iopub.status.idle": "2022-06-07T19:51:17.645062Z",
     "shell.execute_reply": "2022-06-07T19:51:17.644205Z"
    },
    "papermill": {
     "duration": 4.741481,
     "end_time": "2022-06-07T19:51:17.647816",
     "exception": false,
     "start_time": "2022-06-07T19:51:12.906335",
     "status": "completed"
    },
    "tags": []
   },
   "outputs": [
    {
     "name": "stdout",
     "output_type": "stream",
     "text": [
      "Segmentation Models: using `tf.keras` framework.\n"
     ]
    }
   ],
   "source": [
    "import segmentation_models_3D as sm\n",
    "\n",
    "import os\n",
    "import sys\n",
    "import numpy as np\n",
    "import pandas as pd\n",
    "import glob\n",
    "import random\n",
    "random.seed(0)\n",
    "\n",
    "import pydicom\n",
    "import nibabel as nib\n",
    "import SimpleITK as sitk\n",
    "\n",
    "import keras\n",
    "import tensorflow as tf\n",
    "from keras.optimizers import Adam, SGD     # tf.keras.optimizers.Adam\n",
    "\n",
    "np.set_printoptions(threshold=sys.maxsize)"
   ]
  },
  {
   "cell_type": "code",
   "execution_count": 5,
   "id": "569866aa",
   "metadata": {
    "execution": {
     "iopub.execute_input": "2022-06-07T19:51:18.204977Z",
     "iopub.status.busy": "2022-06-07T19:51:18.204154Z",
     "iopub.status.idle": "2022-06-07T19:51:19.281972Z",
     "shell.execute_reply": "2022-06-07T19:51:19.281063Z"
    },
    "papermill": {
     "duration": 1.542124,
     "end_time": "2022-06-07T19:51:19.283889",
     "exception": false,
     "start_time": "2022-06-07T19:51:17.741765",
     "status": "completed"
    },
    "tags": []
   },
   "outputs": [
    {
     "name": "stdout",
     "output_type": "stream",
     "text": [
      "[name: \"/device:CPU:0\"\n",
      "device_type: \"CPU\"\n",
      "memory_limit: 268435456\n",
      "locality {\n",
      "}\n",
      "incarnation: 15033286008062968342\n",
      "xla_global_id: -1\n",
      ", name: \"/device:GPU:0\"\n",
      "device_type: \"GPU\"\n",
      "memory_limit: 16131031040\n",
      "locality {\n",
      "  bus_id: 1\n",
      "  links {\n",
      "  }\n",
      "}\n",
      "incarnation: 3962535868211356375\n",
      "physical_device_desc: \"device: 0, name: Tesla P100-PCIE-16GB, pci bus id: 0000:00:04.0, compute capability: 6.0\"\n",
      "xla_global_id: 416903419\n",
      "]\n"
     ]
    }
   ],
   "source": [
    "import tensorflow as tf\n",
    "\n",
    "from tensorflow.python.client import device_lib\n",
    "print(device_lib.list_local_devices())"
   ]
  },
  {
   "cell_type": "code",
   "execution_count": 6,
   "id": "1abe9c93",
   "metadata": {
    "execution": {
     "iopub.execute_input": "2022-06-07T19:51:19.397142Z",
     "iopub.status.busy": "2022-06-07T19:51:19.396821Z",
     "iopub.status.idle": "2022-06-07T19:51:19.401230Z",
     "shell.execute_reply": "2022-06-07T19:51:19.400503Z"
    },
    "papermill": {
     "duration": 0.062537,
     "end_time": "2022-06-07T19:51:19.403761",
     "exception": false,
     "start_time": "2022-06-07T19:51:19.341224",
     "status": "completed"
    },
    "tags": []
   },
   "outputs": [
    {
     "name": "stdout",
     "output_type": "stream",
     "text": [
      "3.7.12 | packaged by conda-forge | (default, Oct 26 2021, 06:08:53) \n",
      "[GCC 9.4.0]\n",
      "tf version:  2.9.1\n",
      "Keras version:  2.9.0\n"
     ]
    }
   ],
   "source": [
    "print(sys.version)\n",
    "print(\"tf version: \", tf.__version__)\n",
    "print(\"Keras version: \", keras.__version__)"
   ]
  },
  {
   "cell_type": "code",
   "execution_count": 7,
   "id": "e1265cc8",
   "metadata": {
    "execution": {
     "iopub.execute_input": "2022-06-07T19:51:19.515024Z",
     "iopub.status.busy": "2022-06-07T19:51:19.514741Z",
     "iopub.status.idle": "2022-06-07T19:51:19.525649Z",
     "shell.execute_reply": "2022-06-07T19:51:19.524930Z"
    },
    "papermill": {
     "duration": 0.067658,
     "end_time": "2022-06-07T19:51:19.527431",
     "exception": false,
     "start_time": "2022-06-07T19:51:19.459773",
     "status": "completed"
    },
    "tags": []
   },
   "outputs": [],
   "source": [
    "def read_nifti(image_paths, mask_paths):\n",
    "    \n",
    "    if len(image_paths) != len(mask_paths):\n",
    "        \"\"\"ValueError: when user gives an invalid value to a function.\"\"\"\n",
    "        raise ValueError('The number of input files and segmentation masks are different.')\n",
    "        \n",
    "    if len(image_paths) == 0:\n",
    "        raise ValueError('There is no image in the directory.')\n",
    "        \n",
    "    if len(mask_paths) == 0:\n",
    "        raise ValueError('There is no mask in the directory.')\n",
    "        \n",
    "    num_images = len(image_paths)\n",
    "    for index in range(num_images):\n",
    "#         print(index)\n",
    "        image_path = image_paths[index]\n",
    "#         print(image_path)\n",
    "        mask_path = mask_paths[index]\n",
    "#         print(mask_path)\n",
    "        \n",
    "        if not os.path.isfile(image_path):\n",
    "            raise ValueError(f'File {iamge_path} does not exist.')\n",
    "            \n",
    "        if not os.path.isfile(mask_path):\n",
    "            raise ValueError(f'File {mask_path} does not exist.')\n",
    "            \n",
    "    input_images = nib.load(image_paths[0]) # load one volume to get the dimensions (x,y,z)\n",
    "#     \n",
    "    (nx, ny, nz) = input_images.shape[0:3]\n",
    "    input_images = np.ndarray((num_images, nx, ny, nz, 1), dtype= np.float32) # Shape must be (#images, width, height, #slices, 1). Last 1 is needed.\n",
    "    mask_images = np.ndarray((num_images, nx, ny, nz, 1), dtype= np.float32) \n",
    "    \n",
    "    for index in range(0, num_images):\n",
    "        input_image = nib.load(image_paths[index])\n",
    "        mask_image = nib.load(mask_paths[index])\n",
    "        \n",
    "        input_images[index, :, :, :, 0]= input_image.get_fdata(dtype= np.float32)\n",
    "        mask_images[index, :, :, :, 0] = mask_image.get_fdata(dtype= np.float32)\n",
    "        \n",
    "        return input_images, mask_images"
   ]
  },
  {
   "cell_type": "code",
   "execution_count": 8,
   "id": "02522200",
   "metadata": {
    "execution": {
     "iopub.execute_input": "2022-06-07T19:51:19.638592Z",
     "iopub.status.busy": "2022-06-07T19:51:19.638075Z",
     "iopub.status.idle": "2022-06-07T19:51:19.689245Z",
     "shell.execute_reply": "2022-06-07T19:51:19.688141Z"
    },
    "papermill": {
     "duration": 0.108846,
     "end_time": "2022-06-07T19:51:19.691227",
     "exception": false,
     "start_time": "2022-06-07T19:51:19.582381",
     "status": "completed"
    },
    "tags": []
   },
   "outputs": [
    {
     "name": "stdout",
     "output_type": "stream",
     "text": [
      "['images', 'human_corrected_without_vessel_removal', 'human_corrected_with_vessel_removal']\n",
      "Total # of images: 111\n",
      " Total # of masks, no vessel: 111\n",
      "Total #  of masks, with vessel: 111\n"
     ]
    }
   ],
   "source": [
    "data_dir= '/kaggle/input/cynch-seg-seg/'\n",
    "print(os.listdir(data_dir))\n",
    "\n",
    "img_dir= os.path.join(data_dir, 'images/')\n",
    "mask_vessel= os.path.join(data_dir, 'human_corrected_with_vessel_removal/')\n",
    "mask_novessel= os.path.join(data_dir, 'human_corrected_without_vessel_removal/')\n",
    "\n",
    "\n",
    "img_files = sorted(glob.glob(os.path.join(img_dir, '*.nii')))\n",
    "mask_vessel_files = sorted(glob.glob(os.path.join(mask_vessel, '*.nii')))\n",
    "mask_novessel_files = sorted(glob.glob(os.path.join(mask_novessel, '*.nii')))\n",
    "\n",
    "\n",
    "print(f'Total # of images: {len(img_files)}' )\n",
    "print(f' Total # of masks, no vessel: {len(mask_novessel_files)}')\n",
    "print(f'Total #  of masks, with vessel: {len(mask_vessel_files)}')"
   ]
  },
  {
   "cell_type": "code",
   "execution_count": 9,
   "id": "3f4e15b2",
   "metadata": {
    "execution": {
     "iopub.execute_input": "2022-06-07T19:51:19.801125Z",
     "iopub.status.busy": "2022-06-07T19:51:19.800863Z",
     "iopub.status.idle": "2022-06-07T19:51:19.809546Z",
     "shell.execute_reply": "2022-06-07T19:51:19.808300Z"
    },
    "papermill": {
     "duration": 0.065794,
     "end_time": "2022-06-07T19:51:19.811695",
     "exception": false,
     "start_time": "2022-06-07T19:51:19.745901",
     "status": "completed"
    },
    "tags": []
   },
   "outputs": [
    {
     "name": "stdout",
     "output_type": "stream",
     "text": [
      " # train: 96 \n",
      " # validation: 12 \n",
      " # test 3\n"
     ]
    }
   ],
   "source": [
    "img_filenames = [os.path.basename(x) for x in img_files]\n",
    "\n",
    "\n",
    "# test ratio: 25%, validation ration: 15%, train ratio: 60%\n",
    "num_test= int(np.ceil(0.02 * len(img_filenames)))\n",
    "test_images = random.sample(img_filenames, num_test)\n",
    "\n",
    "\n",
    "train_val_images = [x for x in img_filenames if x not in test_images]\n",
    "num_val= int(np.ceil(0.11 * len(train_val_images)))\n",
    "val_images = random.sample(train_val_images, num_val)\n",
    "\n",
    "train_images = [x for x in train_val_images if x not in val_images]\n",
    "\n",
    "print(f' # train: {len(train_images)} \\n # validation: {len(val_images)} \\n # test {len(test_images)}')\n",
    "    "
   ]
  },
  {
   "cell_type": "code",
   "execution_count": 10,
   "id": "b906b3ec",
   "metadata": {
    "execution": {
     "iopub.execute_input": "2022-06-07T19:51:19.924184Z",
     "iopub.status.busy": "2022-06-07T19:51:19.923568Z",
     "iopub.status.idle": "2022-06-07T19:51:19.927222Z",
     "shell.execute_reply": "2022-06-07T19:51:19.926376Z"
    },
    "papermill": {
     "duration": 0.061279,
     "end_time": "2022-06-07T19:51:19.929037",
     "exception": false,
     "start_time": "2022-06-07T19:51:19.867758",
     "status": "completed"
    },
    "tags": []
   },
   "outputs": [],
   "source": [
    "#### check train, test, validation data leaks\n",
    "# [x for x in test_images if x in val_images]\n",
    "# [i for i, j in zip(test_images, val_images) if i == j]\n",
    "### list(set(test_images).intersection(set(val_images)))\n",
    "### list(set(train_images).intersection(set(val_images)))\n",
    "### list(set(train_images).intersection(set(test_images)))"
   ]
  },
  {
   "cell_type": "code",
   "execution_count": 11,
   "id": "73bbf700",
   "metadata": {
    "execution": {
     "iopub.execute_input": "2022-06-07T19:51:20.040315Z",
     "iopub.status.busy": "2022-06-07T19:51:20.039808Z",
     "iopub.status.idle": "2022-06-07T19:51:20.535074Z",
     "shell.execute_reply": "2022-06-07T19:51:20.533321Z"
    },
    "papermill": {
     "duration": 0.554086,
     "end_time": "2022-06-07T19:51:20.537399",
     "exception": false,
     "start_time": "2022-06-07T19:51:19.983313",
     "status": "completed"
    },
    "tags": []
   },
   "outputs": [
    {
     "name": "stdout",
     "output_type": "stream",
     "text": [
      "(96, 224, 224, 35, 1)\n",
      "(12, 224, 224, 35, 1)\n",
      "(3, 224, 224, 35, 1)\n",
      "224 224 35\n"
     ]
    }
   ],
   "source": [
    "#########################################\n",
    "train_img_path = []\n",
    "train_mask_path = []\n",
    "\n",
    "for filename in train_images:\n",
    "    train_img_path.append(os.path.join(img_dir, filename))\n",
    "    train_mask_path.append(os.path.join(mask_vessel, filename))\n",
    "#########################################\n",
    "validation_img_paths = []\n",
    "validation_mask_paths = []\n",
    "\n",
    "for filename in val_images:\n",
    "    validation_img_paths.append(os.path.join(img_dir, filename))\n",
    "    validation_mask_paths.append(os.path.join(mask_vessel, filename))\n",
    "\n",
    "# # #########################################\n",
    "test_img_path = []\n",
    "test_mask_path = []\n",
    "\n",
    "for filename in test_images:\n",
    "    test_img_path.append(os.path.join(img_dir, filename))\n",
    "    test_mask_path.append(os.path.join(mask_vessel, filename))\n",
    "# # #########################################\n",
    "(train_images, train_masks) = read_nifti(train_img_path, train_mask_path)\n",
    "(validation_images, validation_masks) = read_nifti(validation_img_paths, validation_mask_paths)\n",
    "(test_images, test_masks) = read_nifti(test_img_path, test_mask_path)\n",
    "\n",
    "\n",
    "print(train_images.shape)\n",
    "print(validation_images.shape)\n",
    "print(test_images.shape)\n",
    "# (96, 224, 224, 35, 1)\n",
    "# (12, 224, 224, 35, 1)\n",
    "# (3, 224, 224, 35, 1)\n",
    "\n",
    "size_x = train_images.shape[1]\n",
    "size_y = train_images.shape[2]\n",
    "size_z = train_images.shape[3]\n",
    "\n",
    "print(size_x, size_y, size_z)      #  224 224 35\n",
    "\n",
    "# Shape must be (#images, width, height, #slices, 1). Last 1 is needed."
   ]
  },
  {
   "cell_type": "markdown",
   "id": "58254904",
   "metadata": {
    "papermill": {
     "duration": 0.054236,
     "end_time": "2022-06-07T19:51:20.647295",
     "exception": false,
     "start_time": "2022-06-07T19:51:20.593059",
     "status": "completed"
    },
    "tags": []
   },
   "source": [
    "______ \n",
    "# Get the number of calsses"
   ]
  },
  {
   "cell_type": "code",
   "execution_count": 12,
   "id": "706b579a",
   "metadata": {
    "execution": {
     "iopub.execute_input": "2022-06-07T19:51:20.757877Z",
     "iopub.status.busy": "2022-06-07T19:51:20.757290Z",
     "iopub.status.idle": "2022-06-07T19:51:20.767938Z",
     "shell.execute_reply": "2022-06-07T19:51:20.767251Z"
    },
    "papermill": {
     "duration": 0.067629,
     "end_time": "2022-06-07T19:51:20.769569",
     "exception": false,
     "start_time": "2022-06-07T19:51:20.701940",
     "status": "completed"
    },
    "tags": []
   },
   "outputs": [],
   "source": [
    "mask_obj= nib.load(mask_vessel_files[0])\n",
    "mask_data= mask_obj.get_fdata()"
   ]
  },
  {
   "cell_type": "code",
   "execution_count": 13,
   "id": "aef58784",
   "metadata": {
    "execution": {
     "iopub.execute_input": "2022-06-07T19:51:20.881327Z",
     "iopub.status.busy": "2022-06-07T19:51:20.880810Z",
     "iopub.status.idle": "2022-06-07T19:51:20.942563Z",
     "shell.execute_reply": "2022-06-07T19:51:20.941671Z"
    },
    "papermill": {
     "duration": 0.120554,
     "end_time": "2022-06-07T19:51:20.944897",
     "exception": false,
     "start_time": "2022-06-07T19:51:20.824343",
     "status": "completed"
    },
    "tags": []
   },
   "outputs": [
    {
     "data": {
      "text/plain": [
       "array([0.        , 1.00004578, 1.99995422, 3.        , 4.00004578,\n",
       "       4.99995422, 6.        , 7.00004578, 7.99995422, 9.        ])"
      ]
     },
     "execution_count": 13,
     "metadata": {},
     "output_type": "execute_result"
    }
   ],
   "source": [
    "np.unique(mask_data)"
   ]
  },
  {
   "cell_type": "code",
   "execution_count": 14,
   "id": "0940850d",
   "metadata": {
    "execution": {
     "iopub.execute_input": "2022-06-07T19:51:21.058542Z",
     "iopub.status.busy": "2022-06-07T19:51:21.058171Z",
     "iopub.status.idle": "2022-06-07T19:51:21.120052Z",
     "shell.execute_reply": "2022-06-07T19:51:21.119254Z"
    },
    "papermill": {
     "duration": 0.120443,
     "end_time": "2022-06-07T19:51:21.121851",
     "exception": false,
     "start_time": "2022-06-07T19:51:21.001408",
     "status": "completed"
    },
    "tags": []
   },
   "outputs": [
    {
     "name": "stdout",
     "output_type": "stream",
     "text": [
      "0.0 :  1696241\n",
      "1.0000457768328488 :  1506\n",
      "1.9999542224686593 :  4838\n",
      "2.999999999301508 :  3445\n",
      "4.000045776134357 :  2318\n",
      "4.999954221770167 :  20466\n",
      "5.999999998603016 :  5964\n",
      "7.000045775435865 :  5008\n",
      "7.999954221071675 :  11306\n",
      "8.999999997904524 :  5068\n",
      "_ _ _ _ _ _ _ _ _ _ _ _ _ _ _ _ _ _ _ _ _ _ _ _ _ \n"
     ]
    },
    {
     "data": {
      "text/plain": [
       "10"
      ]
     },
     "execution_count": 14,
     "metadata": {},
     "output_type": "execute_result"
    }
   ],
   "source": [
    " a, cnts = np.unique(mask_data, return_counts=True)\n",
    "high_freq, high_freq_element = cnts.max(), a[cnts.argmax()]\n",
    "\n",
    "for elements, counts in zip(a, cnts):\n",
    "    print(elements, \": \", counts)\n",
    "print('_ _ _ _ _ ' * 5)    \n",
    "# print(f'number of classes: {len(a)}')\n",
    "\n",
    "num_classes = len(a)\n",
    "num_classes"
   ]
  },
  {
   "cell_type": "markdown",
   "id": "1177432b",
   "metadata": {
    "papermill": {
     "duration": 0.05527,
     "end_time": "2022-06-07T19:51:21.235003",
     "exception": false,
     "start_time": "2022-06-07T19:51:21.179733",
     "status": "completed"
    },
    "tags": []
   },
   "source": [
    "________________________________"
   ]
  },
  {
   "cell_type": "code",
   "execution_count": 15,
   "id": "1705b136",
   "metadata": {
    "execution": {
     "iopub.execute_input": "2022-06-07T19:51:21.347972Z",
     "iopub.status.busy": "2022-06-07T19:51:21.347630Z",
     "iopub.status.idle": "2022-06-07T19:51:21.352418Z",
     "shell.execute_reply": "2022-06-07T19:51:21.351466Z"
    },
    "papermill": {
     "duration": 0.072307,
     "end_time": "2022-06-07T19:51:21.362885",
     "exception": false,
     "start_time": "2022-06-07T19:51:21.290578",
     "status": "completed"
    },
    "tags": []
   },
   "outputs": [],
   "source": [
    "# https://github.com/ZFTurbo/segmentation_models_3D/blob/master/tst_keras.py\n",
    "\n",
    "# model1 = sm.Unet(\n",
    "#     'resnet34', \n",
    "#     encoder_weights='imagenet'\n",
    "# )\n",
    "\n",
    "# # binary segmentation (this parameters are default when you call Unet('resnet34')\n",
    "# model2 = sm.FPN(\n",
    "#     'densenet121', \n",
    "#     classes=1, \n",
    "#     activation='sigmoid'\n",
    "# )\n",
    "\n",
    "# # multiclass segmentation with non overlapping class masks (your classes + background)\n",
    "# model3 = sm.Linknet(\n",
    "#     'resnet34', \n",
    "#     classes=3, \n",
    "#     activation='softmax'\n",
    "# )\n",
    "\n",
    "# # multiclass segmentation with independent overlapping/non-overlapping class masks\n",
    "# model4 = sm.PSPNet(\n",
    "#     'resnet34', \n",
    "#     classes=3,\n",
    "#     activation='sigmoid'\n",
    "# )\n",
    "\n",
    "# # If you need to specify non-standard input shape\n",
    "# model5 = sm.Unet(\n",
    "#     'resnet50', \n",
    "#     input_shape=(96, 128, 128, 6), \n",
    "#     encoder_weights=None\n",
    "# )\n",
    "\n",
    "# # All possible backbones: 'resnet18, 'resnet34', 'resnet50', 'resnet101', 'resnet152', 'seresnet18', 'seresnet34', 'seresnet50', 'seresnet101', 'seresnet152', 'seresnext50', 'seresnext101', \n",
    "# 'senet154', 'resnext50', 'resnext101', 'vgg16', 'vgg19', 'densenet121', 'densenet169', 'densenet201', 'inceptionresnetv2', 'inceptionv3', 'mobilenet', 'mobilenetv2', 'efficientnetb0', \n",
    "# 'efficientnetb1', 'efficientnetb2', 'efficientnetb3', 'efficientnetb4', 'efficientnetb5', 'efficientnetb6', 'efficientnetb7', 'efficientnetv2-b1', 'efficientnetv2-b2', 'efficientnetv2-b3', \n",
    "# 'efficientnetv2-s', 'efficientnetv2-m', 'efficientnetv2-l'"
   ]
  },
  {
   "cell_type": "markdown",
   "id": "023c6c89",
   "metadata": {
    "papermill": {
     "duration": 0.054774,
     "end_time": "2022-06-07T19:51:21.496373",
     "exception": false,
     "start_time": "2022-06-07T19:51:21.441599",
     "status": "completed"
    },
    "tags": []
   },
   "source": [
    "________________________"
   ]
  },
  {
   "cell_type": "code",
   "execution_count": 16,
   "id": "917d5930",
   "metadata": {
    "execution": {
     "iopub.execute_input": "2022-06-07T19:51:21.607559Z",
     "iopub.status.busy": "2022-06-07T19:51:21.607196Z",
     "iopub.status.idle": "2022-06-07T19:51:21.615182Z",
     "shell.execute_reply": "2022-06-07T19:51:21.614366Z"
    },
    "papermill": {
     "duration": 0.066068,
     "end_time": "2022-06-07T19:51:21.617062",
     "exception": false,
     "start_time": "2022-06-07T19:51:21.550994",
     "status": "completed"
    },
    "tags": []
   },
   "outputs": [],
   "source": [
    "BACKBONE = 'resnet50'\n",
    "encoder_weights = None   # 'imagenet'\n",
    "activation = 'softmax'\n",
    "n_classes = 10\n",
    "epochs = 15\n",
    "batch_size = 2\n",
    "n_samples =  train_images.shape[0]\n",
    "steps_per_epoch = n_samples / batch_size\n",
    "\n",
    "# input_shape = train_images.shape[:-1]    # (64, 224, 224, 35)\n",
    "input_shape = (64, 224, 224, 35)\n",
    "lr = 1e-5     # 0.0001\n",
    "optimizer = Adam(learning_rate=lr)\n",
    "val_steps = 1\n",
    "\n",
    "dice_loss = sm.losses.DiceLoss()\n",
    "focal_loss = sm.losses.CategoricalFocalLoss()\n",
    "total_loss = dice_loss + (1 * focal_loss)\n",
    "\n",
    "metrics = [sm.metrics.IOUScore(threshold=0.5), sm.metrics.FScore(threshold=0.5)]"
   ]
  },
  {
   "cell_type": "code",
   "execution_count": 17,
   "id": "d1781417",
   "metadata": {
    "execution": {
     "iopub.execute_input": "2022-06-07T19:51:21.728475Z",
     "iopub.status.busy": "2022-06-07T19:51:21.728173Z",
     "iopub.status.idle": "2022-06-07T19:51:23.400886Z",
     "shell.execute_reply": "2022-06-07T19:51:23.399733Z"
    },
    "papermill": {
     "duration": 1.733076,
     "end_time": "2022-06-07T19:51:23.404553",
     "exception": false,
     "start_time": "2022-06-07T19:51:21.671477",
     "status": "completed"
    },
    "tags": []
   },
   "outputs": [],
   "source": [
    "model = sm.FPN(BACKBONE, classes = n_classes, input_shape = (96, 224, 224, 35),  encoder_weights = encoder_weights,  activation = activation)\n",
    "\n",
    "model.compile(optimizer = optimizer, loss = total_loss, metrics = metrics)"
   ]
  },
  {
   "cell_type": "code",
   "execution_count": 18,
   "id": "7fb3db5a",
   "metadata": {
    "execution": {
     "iopub.execute_input": "2022-06-07T19:51:23.603034Z",
     "iopub.status.busy": "2022-06-07T19:51:23.602693Z",
     "iopub.status.idle": "2022-06-07T19:51:27.494402Z",
     "shell.execute_reply": "2022-06-07T19:51:27.493181Z"
    },
    "papermill": {
     "duration": 3.984906,
     "end_time": "2022-06-07T19:51:27.496078",
     "exception": true,
     "start_time": "2022-06-07T19:51:23.511172",
     "status": "failed"
    },
    "tags": []
   },
   "outputs": [
    {
     "name": "stderr",
     "output_type": "stream",
     "text": [
      "2022-06-07 19:51:24.805406: W tensorflow/core/framework/cpu_allocator_impl.cc:82] Allocation of 674365440 exceeds 10% of free system memory.\n",
      "2022-06-07 19:51:25.446207: W tensorflow/core/framework/cpu_allocator_impl.cc:82] Allocation of 674365440 exceeds 10% of free system memory.\n",
      "2022-06-07 19:51:26.115237: W tensorflow/core/framework/cpu_allocator_impl.cc:82] Allocation of 674365440 exceeds 10% of free system memory.\n",
      "2022-06-07 19:51:26.597830: W tensorflow/core/framework/cpu_allocator_impl.cc:82] Allocation of 674365440 exceeds 10% of free system memory.\n"
     ]
    },
    {
     "name": "stdout",
     "output_type": "stream",
     "text": [
      "Epoch 1/15\n"
     ]
    },
    {
     "ename": "ValueError",
     "evalue": "in user code:\n\n    File \"/opt/conda/lib/python3.7/site-packages/keras/engine/training.py\", line 1051, in train_function  *\n        return step_function(self, iterator)\n    File \"/opt/conda/lib/python3.7/site-packages/keras/engine/training.py\", line 1040, in step_function  **\n        outputs = model.distribute_strategy.run(run_step, args=(data,))\n    File \"/opt/conda/lib/python3.7/site-packages/keras/engine/training.py\", line 1030, in run_step  **\n        outputs = model.train_step(data)\n    File \"/opt/conda/lib/python3.7/site-packages/keras/engine/training.py\", line 889, in train_step\n        y_pred = self(x, training=True)\n    File \"/opt/conda/lib/python3.7/site-packages/keras/utils/traceback_utils.py\", line 67, in error_handler\n        raise e.with_traceback(filtered_tb) from None\n    File \"/opt/conda/lib/python3.7/site-packages/keras/engine/input_spec.py\", line 264, in assert_input_compatibility\n        raise ValueError(f'Input {input_index} of layer \"{layer_name}\" is '\n\n    ValueError: Input 0 of layer \"model_3\" is incompatible with the layer: expected shape=(None, 96, 224, 224, 35), found shape=(1, 224, 224, 35, 1)\n",
     "output_type": "error",
     "traceback": [
      "\u001b[0;31m---------------------------------------------------------------------------\u001b[0m",
      "\u001b[0;31mValueError\u001b[0m                                Traceback (most recent call last)",
      "\u001b[0;32m/tmp/ipykernel_17/1673257164.py\u001b[0m in \u001b[0;36m<module>\u001b[0;34m\u001b[0m\n\u001b[1;32m      5\u001b[0m )\n\u001b[1;32m      6\u001b[0m \u001b[0mmodel5\u001b[0m\u001b[0;34m.\u001b[0m\u001b[0mcompile\u001b[0m\u001b[0;34m(\u001b[0m\u001b[0moptimizer\u001b[0m \u001b[0;34m=\u001b[0m \u001b[0moptimizer\u001b[0m\u001b[0;34m,\u001b[0m \u001b[0mloss\u001b[0m \u001b[0;34m=\u001b[0m \u001b[0mtotal_loss\u001b[0m\u001b[0;34m,\u001b[0m \u001b[0mmetrics\u001b[0m \u001b[0;34m=\u001b[0m \u001b[0mmetrics\u001b[0m\u001b[0;34m)\u001b[0m\u001b[0;34m\u001b[0m\u001b[0;34m\u001b[0m\u001b[0m\n\u001b[0;32m----> 7\u001b[0;31m \u001b[0mhistory\u001b[0m \u001b[0;34m=\u001b[0m \u001b[0mmodel5\u001b[0m\u001b[0;34m.\u001b[0m\u001b[0mfit\u001b[0m\u001b[0;34m(\u001b[0m\u001b[0mtrain_images\u001b[0m\u001b[0;34m,\u001b[0m \u001b[0mtrain_masks\u001b[0m\u001b[0;34m,\u001b[0m \u001b[0mvalidation_data\u001b[0m\u001b[0;34m=\u001b[0m\u001b[0;34m(\u001b[0m\u001b[0mvalidation_images\u001b[0m\u001b[0;34m,\u001b[0m \u001b[0mvalidation_masks\u001b[0m\u001b[0;34m)\u001b[0m\u001b[0;34m,\u001b[0m \u001b[0mepochs\u001b[0m \u001b[0;34m=\u001b[0m \u001b[0mepochs\u001b[0m\u001b[0;34m,\u001b[0m \u001b[0mbatch_size\u001b[0m \u001b[0;34m=\u001b[0m \u001b[0;36m1\u001b[0m\u001b[0;34m,\u001b[0m \u001b[0mverbose\u001b[0m \u001b[0;34m=\u001b[0m \u001b[0;36m1\u001b[0m\u001b[0;34m)\u001b[0m\u001b[0;34m\u001b[0m\u001b[0;34m\u001b[0m\u001b[0m\n\u001b[0m",
      "\u001b[0;32m/opt/conda/lib/python3.7/site-packages/keras/utils/traceback_utils.py\u001b[0m in \u001b[0;36merror_handler\u001b[0;34m(*args, **kwargs)\u001b[0m\n\u001b[1;32m     65\u001b[0m     \u001b[0;32mexcept\u001b[0m \u001b[0mException\u001b[0m \u001b[0;32mas\u001b[0m \u001b[0me\u001b[0m\u001b[0;34m:\u001b[0m  \u001b[0;31m# pylint: disable=broad-except\u001b[0m\u001b[0;34m\u001b[0m\u001b[0;34m\u001b[0m\u001b[0m\n\u001b[1;32m     66\u001b[0m       \u001b[0mfiltered_tb\u001b[0m \u001b[0;34m=\u001b[0m \u001b[0m_process_traceback_frames\u001b[0m\u001b[0;34m(\u001b[0m\u001b[0me\u001b[0m\u001b[0;34m.\u001b[0m\u001b[0m__traceback__\u001b[0m\u001b[0;34m)\u001b[0m\u001b[0;34m\u001b[0m\u001b[0;34m\u001b[0m\u001b[0m\n\u001b[0;32m---> 67\u001b[0;31m       \u001b[0;32mraise\u001b[0m \u001b[0me\u001b[0m\u001b[0;34m.\u001b[0m\u001b[0mwith_traceback\u001b[0m\u001b[0;34m(\u001b[0m\u001b[0mfiltered_tb\u001b[0m\u001b[0;34m)\u001b[0m \u001b[0;32mfrom\u001b[0m \u001b[0;32mNone\u001b[0m\u001b[0;34m\u001b[0m\u001b[0;34m\u001b[0m\u001b[0m\n\u001b[0m\u001b[1;32m     68\u001b[0m     \u001b[0;32mfinally\u001b[0m\u001b[0;34m:\u001b[0m\u001b[0;34m\u001b[0m\u001b[0;34m\u001b[0m\u001b[0m\n\u001b[1;32m     69\u001b[0m       \u001b[0;32mdel\u001b[0m \u001b[0mfiltered_tb\u001b[0m\u001b[0;34m\u001b[0m\u001b[0;34m\u001b[0m\u001b[0m\n",
      "\u001b[0;32m/opt/conda/lib/python3.7/site-packages/keras/engine/training.py\u001b[0m in \u001b[0;36mtf__train_function\u001b[0;34m(iterator)\u001b[0m\n\u001b[1;32m     13\u001b[0m                 \u001b[0;32mtry\u001b[0m\u001b[0;34m:\u001b[0m\u001b[0;34m\u001b[0m\u001b[0;34m\u001b[0m\u001b[0m\n\u001b[1;32m     14\u001b[0m                     \u001b[0mdo_return\u001b[0m \u001b[0;34m=\u001b[0m \u001b[0;32mTrue\u001b[0m\u001b[0;34m\u001b[0m\u001b[0;34m\u001b[0m\u001b[0m\n\u001b[0;32m---> 15\u001b[0;31m                     \u001b[0mretval_\u001b[0m \u001b[0;34m=\u001b[0m \u001b[0mag__\u001b[0m\u001b[0;34m.\u001b[0m\u001b[0mconverted_call\u001b[0m\u001b[0;34m(\u001b[0m\u001b[0mag__\u001b[0m\u001b[0;34m.\u001b[0m\u001b[0mld\u001b[0m\u001b[0;34m(\u001b[0m\u001b[0mstep_function\u001b[0m\u001b[0;34m)\u001b[0m\u001b[0;34m,\u001b[0m \u001b[0;34m(\u001b[0m\u001b[0mag__\u001b[0m\u001b[0;34m.\u001b[0m\u001b[0mld\u001b[0m\u001b[0;34m(\u001b[0m\u001b[0mself\u001b[0m\u001b[0;34m)\u001b[0m\u001b[0;34m,\u001b[0m \u001b[0mag__\u001b[0m\u001b[0;34m.\u001b[0m\u001b[0mld\u001b[0m\u001b[0;34m(\u001b[0m\u001b[0miterator\u001b[0m\u001b[0;34m)\u001b[0m\u001b[0;34m)\u001b[0m\u001b[0;34m,\u001b[0m \u001b[0;32mNone\u001b[0m\u001b[0;34m,\u001b[0m \u001b[0mfscope\u001b[0m\u001b[0;34m)\u001b[0m\u001b[0;34m\u001b[0m\u001b[0;34m\u001b[0m\u001b[0m\n\u001b[0m\u001b[1;32m     16\u001b[0m                 \u001b[0;32mexcept\u001b[0m\u001b[0;34m:\u001b[0m\u001b[0;34m\u001b[0m\u001b[0;34m\u001b[0m\u001b[0m\n\u001b[1;32m     17\u001b[0m                     \u001b[0mdo_return\u001b[0m \u001b[0;34m=\u001b[0m \u001b[0;32mFalse\u001b[0m\u001b[0;34m\u001b[0m\u001b[0;34m\u001b[0m\u001b[0m\n",
      "\u001b[0;31mValueError\u001b[0m: in user code:\n\n    File \"/opt/conda/lib/python3.7/site-packages/keras/engine/training.py\", line 1051, in train_function  *\n        return step_function(self, iterator)\n    File \"/opt/conda/lib/python3.7/site-packages/keras/engine/training.py\", line 1040, in step_function  **\n        outputs = model.distribute_strategy.run(run_step, args=(data,))\n    File \"/opt/conda/lib/python3.7/site-packages/keras/engine/training.py\", line 1030, in run_step  **\n        outputs = model.train_step(data)\n    File \"/opt/conda/lib/python3.7/site-packages/keras/engine/training.py\", line 889, in train_step\n        y_pred = self(x, training=True)\n    File \"/opt/conda/lib/python3.7/site-packages/keras/utils/traceback_utils.py\", line 67, in error_handler\n        raise e.with_traceback(filtered_tb) from None\n    File \"/opt/conda/lib/python3.7/site-packages/keras/engine/input_spec.py\", line 264, in assert_input_compatibility\n        raise ValueError(f'Input {input_index} of layer \"{layer_name}\" is '\n\n    ValueError: Input 0 of layer \"model_3\" is incompatible with the layer: expected shape=(None, 96, 224, 224, 35), found shape=(1, 224, 224, 35, 1)\n"
     ]
    }
   ],
   "source": [
    "model5 = sm.Unet(\n",
    "    'resnet50', \n",
    "    input_shape=(96, 224, 224, 35), \n",
    "    encoder_weights=None\n",
    ")\n",
    "model5.compile(optimizer = optimizer, loss = total_loss, metrics = metrics)\n",
    "history = model5.fit(train_images, train_masks, validation_data=(validation_images, validation_masks), epochs = epochs, batch_size = 1, verbose = 1)"
   ]
  },
  {
   "cell_type": "code",
   "execution_count": null,
   "id": "e8299128",
   "metadata": {
    "execution": {
     "iopub.execute_input": "2022-06-07T19:38:03.829041Z",
     "iopub.status.busy": "2022-06-07T19:38:03.828690Z",
     "iopub.status.idle": "2022-06-07T19:38:04.430060Z",
     "shell.execute_reply": "2022-06-07T19:38:04.428961Z",
     "shell.execute_reply.started": "2022-06-07T19:38:03.829011Z"
    },
    "papermill": {
     "duration": null,
     "end_time": null,
     "exception": null,
     "start_time": null,
     "status": "pending"
    },
    "tags": []
   },
   "outputs": [],
   "source": [
    "# model3 = sm.Unet(\n",
    "#     'vgg19',\n",
    "#     input_shape=(96, 224, 224, 35), \n",
    "#     classes=10, \n",
    "#     activation='softmax'\n",
    "# )\n",
    "\n",
    "# history = model3.fit(train_images, train_masks, validation_data=(validation_images, validation_masks), epochs = epochs, batch_size = 1, verbose = 1)"
   ]
  },
  {
   "cell_type": "code",
   "execution_count": null,
   "id": "46c0a44d",
   "metadata": {
    "papermill": {
     "duration": null,
     "end_time": null,
     "exception": null,
     "start_time": null,
     "status": "pending"
    },
    "tags": []
   },
   "outputs": [],
   "source": []
  },
  {
   "cell_type": "code",
   "execution_count": null,
   "id": "7a6ebd59",
   "metadata": {
    "papermill": {
     "duration": null,
     "end_time": null,
     "exception": null,
     "start_time": null,
     "status": "pending"
    },
    "tags": []
   },
   "outputs": [],
   "source": []
  },
  {
   "cell_type": "code",
   "execution_count": null,
   "id": "427bfcd0",
   "metadata": {
    "papermill": {
     "duration": null,
     "end_time": null,
     "exception": null,
     "start_time": null,
     "status": "pending"
    },
    "tags": []
   },
   "outputs": [],
   "source": []
  },
  {
   "cell_type": "code",
   "execution_count": null,
   "id": "dda94bae",
   "metadata": {
    "papermill": {
     "duration": null,
     "end_time": null,
     "exception": null,
     "start_time": null,
     "status": "pending"
    },
    "tags": []
   },
   "outputs": [],
   "source": []
  }
 ],
 "metadata": {
  "kernelspec": {
   "display_name": "Python 3 (ipykernel)",
   "language": "python",
   "name": "python3"
  },
  "language_info": {
   "codemirror_mode": {
    "name": "ipython",
    "version": 3
   },
   "file_extension": ".py",
   "mimetype": "text/x-python",
   "name": "python",
   "nbconvert_exporter": "python",
   "pygments_lexer": "ipython3",
   "version": "3.9.12"
  },
  "papermill": {
   "default_parameters": {},
   "duration": 130.259037,
   "end_time": "2022-06-07T19:51:31.267053",
   "environment_variables": {},
   "exception": true,
   "input_path": "__notebook__.ipynb",
   "output_path": "__notebook__.ipynb",
   "parameters": {},
   "start_time": "2022-06-07T19:49:21.008016",
   "version": "2.3.4"
  }
 },
 "nbformat": 4,
 "nbformat_minor": 5
}
